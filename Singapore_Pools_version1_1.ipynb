{
  "nbformat": 4,
  "nbformat_minor": 0,
  "metadata": {
    "colab": {
      "name": "Singapore Pools_version1.1.ipynb",
      "provenance": [],
      "collapsed_sections": [],
      "authorship_tag": "ABX9TyMPD/IXup7sJT2xtS/d9mpI",
      "include_colab_link": true
    },
    "language_info": {
      "name": "python"
    },
    "kernelspec": {
      "name": "python3",
      "display_name": "Python 3"
    },
    "gpuClass": "standard"
  },
  "cells": [
    {
      "cell_type": "markdown",
      "metadata": {
        "id": "view-in-github",
        "colab_type": "text"
      },
      "source": [
        "<a href=\"https://colab.research.google.com/github/jacksonsin/machine_learning_with_python/blob/main/Singapore_Pools_version1_1.ipynb\" target=\"_parent\"><img src=\"https://colab.research.google.com/assets/colab-badge.svg\" alt=\"Open In Colab\"/></a>"
      ]
    },
    {
      "cell_type": "code",
      "source": [
        "# Install library for GA Model\n",
        "!pip install pygad"
      ],
      "metadata": {
        "colab": {
          "base_uri": "https://localhost:8080/"
        },
        "id": "EWgFG2tB9NF7",
        "outputId": "a3fe0939-9d52-4f4c-ffd4-fd77bad36a05"
      },
      "execution_count": 1,
      "outputs": [
        {
          "output_type": "stream",
          "name": "stdout",
          "text": [
            "Looking in indexes: https://pypi.org/simple, https://us-python.pkg.dev/colab-wheels/public/simple/\n",
            "Requirement already satisfied: pygad in /usr/local/lib/python3.7/dist-packages (2.17.0)\n",
            "Requirement already satisfied: numpy in /usr/local/lib/python3.7/dist-packages (from pygad) (1.21.6)\n",
            "Requirement already satisfied: matplotlib in /usr/local/lib/python3.7/dist-packages (from pygad) (3.2.2)\n",
            "Requirement already satisfied: python-dateutil>=2.1 in /usr/local/lib/python3.7/dist-packages (from matplotlib->pygad) (2.8.2)\n",
            "Requirement already satisfied: pyparsing!=2.0.4,!=2.1.2,!=2.1.6,>=2.0.1 in /usr/local/lib/python3.7/dist-packages (from matplotlib->pygad) (3.0.9)\n",
            "Requirement already satisfied: kiwisolver>=1.0.1 in /usr/local/lib/python3.7/dist-packages (from matplotlib->pygad) (1.4.4)\n",
            "Requirement already satisfied: cycler>=0.10 in /usr/local/lib/python3.7/dist-packages (from matplotlib->pygad) (0.11.0)\n",
            "Requirement already satisfied: typing-extensions in /usr/local/lib/python3.7/dist-packages (from kiwisolver>=1.0.1->matplotlib->pygad) (4.1.1)\n",
            "Requirement already satisfied: six>=1.5 in /usr/local/lib/python3.7/dist-packages (from python-dateutil>=2.1->matplotlib->pygad) (1.15.0)\n"
          ]
        }
      ]
    },
    {
      "cell_type": "code",
      "source": [
        "# Calculate the permutation for 2D Lottery\n",
        "import itertools\n",
        "val = [x for x in range(0,10)]\n",
        "permutations = [v for v in itertools.product(val, repeat=2)] #2D permuatation with replacement\n",
        "size_n = len(permutations)\n",
        "print(size_n)"
      ],
      "metadata": {
        "colab": {
          "base_uri": "https://localhost:8080/"
        },
        "id": "YgzqvudkOckw",
        "outputId": "51b2c199-9c72-48d6-861f-33562fd8c0f8"
      },
      "execution_count": 2,
      "outputs": [
        {
          "output_type": "stream",
          "name": "stdout",
          "text": [
            "100\n"
          ]
        }
      ]
    },
    {
      "cell_type": "code",
      "source": [
        "# Plot Probability Mass Function - Zeta Distribution\n",
        "import numpy as np\n",
        "from scipy.stats import zipf\n",
        "from scipy.stats import zipfian\n",
        "import matplotlib.pyplot as plt\n",
        "fig, ax = plt.subplots(1, 1)\n",
        "a, n = 1.01, size_n+1\n",
        "mean, var, skew, kurt = zipfian.stats(a, n, moments='mvsk')\n",
        "x = np.arange(zipfian.ppf(0.001, a, n),\n",
        "              zipfian.ppf(0.999, a, n))\n",
        "ax.plot(x, zipfian.pmf(x, a, n), 'bo', ms=8, label='zipfian pmf')\n",
        "ax.legend(loc='best', frameon=False)\n",
        "plt.title(f\"Probability Mass Function\".format())\n",
        "plt.show()"
      ],
      "metadata": {
        "colab": {
          "base_uri": "https://localhost:8080/",
          "height": 281
        },
        "id": "cFxbEUmnD5xY",
        "outputId": "b2b8e6ef-07e0-47b5-a66e-3ac858fdfb33"
      },
      "execution_count": 3,
      "outputs": [
        {
          "output_type": "display_data",
          "data": {
            "text/plain": [
              "<Figure size 432x288 with 1 Axes>"
            ],
            "image/png": "[encoded data removed]"
          },
          "metadata": {
            "needs_background": "light"
          }
        }
      ]
    },
    {
      "cell_type": "code",
      "source": [
        "# check size of x is 100\n",
        "len(zipfian.cdf(x, a, n))"
      ],
      "metadata": {
        "colab": {
          "base_uri": "https://localhost:8080/"
        },
        "id": "Ths3FuE5boDR",
        "outputId": "969858d9-02a5-4272-b56e-4fd0ddd5aa50"
      },
      "execution_count": 4,
      "outputs": [
        {
          "output_type": "execute_result",
          "data": {
            "text/plain": [
              "100"
            ]
          },
          "metadata": {},
          "execution_count": 4
        }
      ]
    },
    {
      "cell_type": "code",
      "source": [
        "# Probability of Best Case Scenario\n",
        "best = zipfian.pmf(x, a, n)[-1] # Probability of people buying popular pair\n",
        "print(best)"
      ],
      "metadata": {
        "colab": {
          "base_uri": "https://localhost:8080/"
        },
        "id": "Wtjf1uhvXEKz",
        "outputId": "e8379303-f542-40ad-dbac-79367ffaf544"
      },
      "execution_count": 5,
      "outputs": [
        {
          "output_type": "stream",
          "name": "stdout",
          "text": [
            "0.0018751427350314342\n"
          ]
        }
      ]
    },
    {
      "cell_type": "code",
      "source": [
        "# Probability of Average Case Scenario\n",
        "avg = zipfian.pmf(x, a, n)[len(zipfian.pmf(x, a, n)) // 2] # Probability of people buying ordinary pair\n",
        "print(avg)"
      ],
      "metadata": {
        "colab": {
          "base_uri": "https://localhost:8080/"
        },
        "id": "1GJK2Mopcqbr",
        "outputId": "0642c49a-9e45-4c96-bcf0-e7c3d3a563c4"
      },
      "execution_count": 6,
      "outputs": [
        {
          "output_type": "stream",
          "name": "stdout",
          "text": [
            "0.003701591197830854\n"
          ]
        }
      ]
    },
    {
      "cell_type": "code",
      "source": [
        "# Probability of Worst Case Scenario\n",
        "worst = zipfian.pmf(x, a, n)[0] # Probability of people buying least popular pair\n",
        "print(worst)"
      ],
      "metadata": {
        "colab": {
          "base_uri": "https://localhost:8080/"
        },
        "id": "WGbQaddKW73Y",
        "outputId": "68c5b682-edd4-4aeb-8285-26b4f9111232"
      },
      "execution_count": 7,
      "outputs": [
        {
          "output_type": "stream",
          "name": "stdout",
          "text": [
            "0.19635154895216583\n"
          ]
        }
      ]
    },
    {
      "cell_type": "code",
      "source": [
        "# Configure GA Model\n",
        "import pygad\n",
        "\n",
        "def fitness_function(solution, solution_idx):\n",
        "    return sum(solution)\n",
        "\n",
        "ga_instance = pygad.GA(num_generations=1,\n",
        "                       num_parents_mating=10,\n",
        "                       sol_per_pop=1000000,\n",
        "                       num_genes=6,\n",
        "                       fitness_func=fitness_function,\n",
        "\n",
        "                       init_range_low=0,\n",
        "                       init_range_high=999999,\n",
        "\n",
        "                       gene_type=int)"
      ],
      "metadata": {
        "colab": {
          "base_uri": "https://localhost:8080/"
        },
        "id": "T-06KJ0hz66x",
        "outputId": "ee22a3a6-da90-4b20-efa4-5701465c4e31"
      },
      "execution_count": 8,
      "outputs": [
        {
          "output_type": "stream",
          "name": "stderr",
          "text": [
            "/usr/local/lib/python3.7/dist-packages/pygad/pygad.py:473: UserWarning: The percentage of genes to mutate (mutation_percent_genes=10) resutled in selecting (0) genes. The number of genes to mutate is set to 1 (mutation_num_genes=1).\n",
            "If you do not want to mutate any gene, please set mutation_type=None.\n",
            "  if not self.suppress_warnings: warnings.warn(\"The percentage of genes to mutate (mutation_percent_genes={mutation_percent}) resutled in selecting ({mutation_num}) genes. The number of genes to mutate is set to 1 (mutation_num_genes=1).\\nIf you do not want to mutate any gene, please set mutation_type=None.\".format(mutation_percent=mutation_percent_genes, mutation_num=mutation_num_genes))\n"
          ]
        }
      ]
    },
    {
      "cell_type": "code",
      "source": [
        "# Deploy GA Model\n",
        "from random import randrange\n",
        "\"\"\" Capital + Annual Sales - Fixed - Variable - Payout   | Avg Ticket Sold\n",
        "      x[0]       x[1]         x[2]      x[3]     x[4]    |      x[5]\n",
        "\"\"\"\n",
        "draws = 365 // 4 \n",
        "capital = 10000000\n",
        "fixed = 10000000\n",
        "\n",
        "def ga_best_scenario():\n",
        "  data = []\n",
        "  for x in ga_instance.initial_population.tolist():\n",
        "      x[0] = capital # Initial Capital\n",
        "      x[1] = 1 * x[5] * draws # Annual Sales = $1 x average tickets sold x  x draws\n",
        "      x[2] = fixed # Fixed cost\n",
        "      x[3] = x[1] * 0.05  # Variable cost\n",
        "      x[4] = x[5] * best * draws * 70\n",
        "      if (x[0]+x[1]-x[2]-x[3]-x[4])>capital:\n",
        "        data.append(x)\n",
        "      else:\n",
        "        pass\n",
        "  return data\n",
        "\n",
        "def ga_avg_scenario():\n",
        "  data = []\n",
        "  for x in ga_instance.initial_population.tolist():\n",
        "      x[0] = capital # Initial Capital\n",
        "      x[1] = 1 * x[5] * draws # Annual Sales = $1 x average tickets sold x  x draws\n",
        "      x[2] = fixed # Fixed cost\n",
        "      x[3] = x[1] * 0.05  # Variable cost\n",
        "      x[4] = x[5] * avg * draws * 70\n",
        "      if (x[0]+x[1]-x[2]-x[3]-x[4])>capital:\n",
        "        data.append(x)\n",
        "      else:\n",
        "        pass\n",
        "  return data\n",
        "\n",
        "def ga_worst_scenario():\n",
        "  data = []\n",
        "  for x in ga_instance.initial_population.tolist():\n",
        "      x[0] = capital # Initial Capital\n",
        "      x[1] = 1 * x[5] * draws # Annual Sales = $1 x average tickets sold x  x draws\n",
        "      x[2] = fixed # Fixed cost\n",
        "      x[3] = x[1] * 0.05  # Variable cost\n",
        "      x[4] = x[5] * worst * draws * 70\n",
        "      if (x[0]+x[1]-x[2]-x[3]-x[4])>capital:\n",
        "        data.append(x)\n",
        "      else:\n",
        "        data.append(x)\n",
        "  return data"
      ],
      "metadata": {
        "id": "pu3AwTqs6z98"
      },
      "execution_count": 9,
      "outputs": []
    },
    {
      "cell_type": "code",
      "source": [
        "# Check Balance (debugging use)\n",
        "#sum(ga_best_scenario()[0]),sum(ga_best_scenario()[1]),sum(ga_best_scenario()[2])\n",
        "#sum(ga_avg_scenario()[0]),sum(ga_avg_scenario()[1]),sum(ga_avg_scenario()[2])\n",
        "#sum(ga_worst_scenario()[0]),sum(ga_worst_scenario()[1]),sum(ga_worst_scenario()[2])"
      ],
      "metadata": {
        "id": "SpiOTEYGeeoZ"
      },
      "execution_count": 10,
      "outputs": []
    },
    {
      "cell_type": "code",
      "source": [
        "# (debugging use)\n",
        "#ga_best_scenario()[0], ga_avg_scenario()[0], ga_worst_scenario()[0]"
      ],
      "metadata": {
        "id": "y0oS5nFylb--"
      },
      "execution_count": 11,
      "outputs": []
    },
    {
      "cell_type": "code",
      "source": [
        "# (debugging use)\n",
        "#ga_best_scenario()[1], ga_avg_scenario()[1], ga_worst_scenario()[1]"
      ],
      "metadata": {
        "id": "Vc7bGwBLEZdX"
      },
      "execution_count": 12,
      "outputs": []
    },
    {
      "cell_type": "code",
      "source": [
        "# Return Mininum Sales in Best Case Scenario\n",
        "def eval_scenario(var):\n",
        "  new_list = []\n",
        "  min_sales = []\n",
        "  for x in range(len(var)):\n",
        "    new_list.append(x)\n",
        "    min_sales.append(var[x][1])\n",
        "  return min(min_sales)\n",
        "input = eval_scenario(ga_best_scenario())"
      ],
      "metadata": {
        "id": "0wg1ITVmCfoE"
      },
      "execution_count": 13,
      "outputs": []
    },
    {
      "cell_type": "code",
      "source": [
        "# Search the array with the minimum sales\n",
        "def search(arg):\n",
        "  for i in arg:\n",
        "    if i[1] == input:\n",
        "      return i\n",
        "    else:\n",
        "      pass\n",
        "search(ga_best_scenario())"
      ],
      "metadata": {
        "colab": {
          "base_uri": "https://localhost:8080/"
        },
        "id": "6WM3uw5sLOV7",
        "outputId": "d56c1b3b-a51a-4203-cb4f-f4ad3b53c93a"
      },
      "execution_count": 14,
      "outputs": [
        {
          "output_type": "execute_result",
          "data": {
            "text/plain": [
              "[10000000, 12213929, 10000000, 610696.4500000001, 1603200.2161377827, 134219]"
            ]
          },
          "metadata": {},
          "execution_count": 14
        }
      ]
    },
    {
      "cell_type": "code",
      "source": [
        "# Check the balance\n",
        "index = ga_best_scenario().index(search(ga_best_scenario()))\n",
        "ga_best_scenario()[index][0]+ga_best_scenario()[index][1]-ga_best_scenario()[index][2]-ga_best_scenario()[index][3]-ga_best_scenario()[index][4]"
      ],
      "metadata": {
        "colab": {
          "base_uri": "https://localhost:8080/"
        },
        "id": "BXk8smdfEma-",
        "outputId": "5798adf7-2512-4956-bac3-aed6b70eff12"
      },
      "execution_count": 15,
      "outputs": [
        {
          "output_type": "execute_result",
          "data": {
            "text/plain": [
              "10000032.333862219"
            ]
          },
          "metadata": {},
          "execution_count": 15
        }
      ]
    },
    {
      "cell_type": "code",
      "source": [
        "# Summarise\n",
        "import math\n",
        "tickets_sold = search(ga_best_scenario())[5]\n",
        "variable = search(ga_best_scenario())[3]\n",
        "best_scenario = search(ga_best_scenario())[4]\n",
        "sales = search(ga_best_scenario())[1]\n",
        "balance1 = capital + sales - fixed - variable - best_scenario\n",
        "print(f\"Best Case Scenario After {draws} Draws\".format())\n",
        "print(f\"Probability of Customers Buying The Pair: {best*100:.1f}%\".format())\n",
        "print(\"=========================\")\n",
        "print(f\"Tickets Sold    = {tickets_sold*draws:,}\".format())\n",
        "print(f\"Initial Balance = ${capital:,}\".format())\n",
        "print(f\"Sales           = ${sales:,}\".format()) \n",
        "print(f\"Fixed Cost      = ${fixed:,}\".format())\n",
        "print(f\"Variable Cost   = ${math.trunc(variable):,}\".format())\n",
        "print(f\"Payout          = ${math.trunc(best_scenario):,}\".format()) \n",
        "print(\"=========================\")\n",
        "print(f\"Balance         = ${math.trunc(balance1):,}\".format())"
      ],
      "metadata": {
        "colab": {
          "base_uri": "https://localhost:8080/"
        },
        "id": "netwextLmiSJ",
        "outputId": "ae75a1d5-0677-4475-cd3b-4caad3ce5266"
      },
      "execution_count": 16,
      "outputs": [
        {
          "output_type": "stream",
          "name": "stdout",
          "text": [
            "Best Case Scenario After 91 Draws\n",
            "Probability of Customers Buying The Pair: 0.2%\n",
            "=========================\n",
            "Tickets Sold    = 12,213,929\n",
            "Initial Balance = $10,000,000\n",
            "Sales           = $12,213,929\n",
            "Fixed Cost      = $10,000,000\n",
            "Variable Cost   = $610,696\n",
            "Payout          = $1,603,200\n",
            "=========================\n",
            "Balance         = $10,000,032\n"
          ]
        }
      ]
    },
    {
      "cell_type": "code",
      "source": [
        "# Return Mininum Sales in Average Case Scenario\n",
        "def eval_scenario(var):\n",
        "  new_list = []\n",
        "  min_sales = []\n",
        "  for x in range(len(var)):\n",
        "    new_list.append(x)\n",
        "    min_sales.append(var[x][1])\n",
        "  return min(min_sales)\n",
        "input = eval_scenario(ga_avg_scenario())"
      ],
      "metadata": {
        "id": "AdBXhojkkbbH"
      },
      "execution_count": 17,
      "outputs": []
    },
    {
      "cell_type": "code",
      "source": [
        "# Search the list\n",
        "def search(arg):\n",
        "  for i in arg:\n",
        "    if i[1] == input:\n",
        "      return i\n",
        "    else:\n",
        "      pass\n",
        "search(ga_avg_scenario())"
      ],
      "metadata": {
        "colab": {
          "base_uri": "https://localhost:8080/"
        },
        "id": "WqyRqH9eFKdB",
        "outputId": "f8c89b0a-9520-4e7f-9d99-d7494c886240"
      },
      "execution_count": 18,
      "outputs": [
        {
          "output_type": "execute_result",
          "data": {
            "text/plain": [
              "[10000000, 14474187, 10000000, 723709.3500000001, 3750426.623647044, 159057]"
            ]
          },
          "metadata": {},
          "execution_count": 18
        }
      ]
    },
    {
      "cell_type": "code",
      "source": [
        "# Check the balance\n",
        "index = ga_avg_scenario().index(search(ga_avg_scenario()))\n",
        "ga_avg_scenario()[index][0]+ga_avg_scenario()[index][1]-ga_avg_scenario()[index][2]-ga_avg_scenario()[index][3]-ga_avg_scenario()[index][4]"
      ],
      "metadata": {
        "colab": {
          "base_uri": "https://localhost:8080/"
        },
        "id": "AfK22qzRFOM9",
        "outputId": "a3a283d0-e022-454b-e01e-d4d84e831fbf"
      },
      "execution_count": 19,
      "outputs": [
        {
          "output_type": "execute_result",
          "data": {
            "text/plain": [
              "10000051.026352957"
            ]
          },
          "metadata": {},
          "execution_count": 19
        }
      ]
    },
    {
      "cell_type": "code",
      "source": [
        "# Summarise\n",
        "import math\n",
        "tickets_sold = search(ga_avg_scenario())[5]\n",
        "variable = search(ga_avg_scenario())[3]\n",
        "avg_scenario = search(ga_avg_scenario())[4]\n",
        "sales = search(ga_avg_scenario())[1]\n",
        "balance2 = capital + sales - fixed - variable - avg_scenario\n",
        "print(f\"Average Case Scenario After {draws} Draws\".format())\n",
        "print(f\"Probability of Customers Buying The Pair: {avg*100:.1f}%\".format())\n",
        "print(\"=========================\")\n",
        "print(f\"Tickets Sold    = {tickets_sold*draws:,}\".format())\n",
        "print(f\"Initial Balance = ${capital:,}\".format())\n",
        "print(f\"Sales           = ${sales:,}\".format()) \n",
        "print(f\"Fixed Cost      = ${fixed:,}\".format())\n",
        "print(f\"Variable Cost   = ${math.trunc(variable):,}\".format())\n",
        "print(f\"Payout          = ${math.trunc(avg_scenario):,}\".format()) \n",
        "print(\"=========================\")\n",
        "print(f\"Balance         = ${math.trunc(balance2):,}\".format())"
      ],
      "metadata": {
        "colab": {
          "base_uri": "https://localhost:8080/"
        },
        "id": "KNG0TKxfszSQ",
        "outputId": "3b0d45c5-9bfa-43e2-e108-9157399418e7"
      },
      "execution_count": 20,
      "outputs": [
        {
          "output_type": "stream",
          "name": "stdout",
          "text": [
            "Average Case Scenario After 91 Draws\n",
            "Probability of Customers Buying The Pair: 0.4%\n",
            "=========================\n",
            "Tickets Sold    = 14,474,187\n",
            "Initial Balance = $10,000,000\n",
            "Sales           = $14,474,187\n",
            "Fixed Cost      = $10,000,000\n",
            "Variable Cost   = $723,709\n",
            "Payout          = $3,750,426\n",
            "=========================\n",
            "Balance         = $10,000,051\n"
          ]
        }
      ]
    },
    {
      "cell_type": "code",
      "source": [
        "# Return Mininum Sales in Worst Case Scenario\n",
        "def eval_scenario(var):\n",
        "  new_list = []\n",
        "  min_sales = []\n",
        "  for x in range(len(var)):\n",
        "    new_list.append(x)\n",
        "    min_sales.append(var[x][1])\n",
        "  return min(min_sales)\n",
        "input = eval_scenario(ga_worst_scenario())"
      ],
      "metadata": {
        "id": "gPzJt9R3kbn4"
      },
      "execution_count": 21,
      "outputs": []
    },
    {
      "cell_type": "code",
      "source": [
        "# Search the list\n",
        "def search(arg):\n",
        "  for i in arg:\n",
        "    if i[1] == input:\n",
        "      return i\n",
        "    else:\n",
        "      pass\n",
        "search(ga_worst_scenario())"
      ],
      "metadata": {
        "colab": {
          "base_uri": "https://localhost:8080/"
        },
        "id": "AbdPxCfUGGLX",
        "outputId": "85fbeeee-cd98-4813-fcdf-716116d83a96"
      },
      "execution_count": 22,
      "outputs": [
        {
          "output_type": "execute_result",
          "data": {
            "text/plain": [
              "[10000000, 0, 10000000, 0.0, 0.0, 0]"
            ]
          },
          "metadata": {},
          "execution_count": 22
        }
      ]
    },
    {
      "cell_type": "code",
      "source": [
        "# Check the balance\n",
        "index = ga_worst_scenario().index(search(ga_worst_scenario()))\n",
        "ga_worst_scenario()[index][0]+ga_worst_scenario()[index][1]-ga_worst_scenario()[index][2]-ga_worst_scenario()[index][3]-ga_worst_scenario()[index][4]"
      ],
      "metadata": {
        "colab": {
          "base_uri": "https://localhost:8080/"
        },
        "id": "KeZgdbyHFUGt",
        "outputId": "1e618d5d-4ab3-4d9c-c145-c54a79f0faef"
      },
      "execution_count": 23,
      "outputs": [
        {
          "output_type": "execute_result",
          "data": {
            "text/plain": [
              "0.0"
            ]
          },
          "metadata": {},
          "execution_count": 23
        }
      ]
    },
    {
      "cell_type": "code",
      "source": [
        "# Summarise\n",
        "import math\n",
        "tickets_sold = search(ga_worst_scenario())[5]\n",
        "variable = search(ga_worst_scenario())[3]\n",
        "worst_scenario = search(ga_worst_scenario())[4]\n",
        "sales = search(ga_worst_scenario())[1]\n",
        "balance3 = capital + sales - fixed - variable - worst_scenario\n",
        "print(f\"Worst Case Scenario After {draws} Draws\".format())\n",
        "print(f\"Probability of Customers Buying The Pair: {worst*100:.1f}%\".format())\n",
        "print(\"=========================\")\n",
        "print(f\"Tickets Sold    = {tickets_sold*draws:,}\".format())\n",
        "print(f\"Initial Balance = ${capital:,}\".format())\n",
        "print(f\"Sales           = ${sales:,}\".format()) \n",
        "print(f\"Fixed Cost      = ${fixed:,}\".format())\n",
        "print(f\"Variable Cost   = ${math.trunc(variable):,}\".format())\n",
        "print(f\"Payout          = ${math.trunc(worst_scenario):,}\".format()) \n",
        "print(\"=========================\")\n",
        "print(f\"Balance         = ${math.trunc(balance3):,}\".format())"
      ],
      "metadata": {
        "colab": {
          "base_uri": "https://localhost:8080/"
        },
        "id": "9Zv7XPJxs1i_",
        "outputId": "b5216f25-3650-4240-ecbe-94ede596ab11"
      },
      "execution_count": 24,
      "outputs": [
        {
          "output_type": "stream",
          "name": "stdout",
          "text": [
            "Worst Case Scenario After 91 Draws\n",
            "Probability of Customers Buying The Pair: 19.6%\n",
            "=========================\n",
            "Tickets Sold    = 0\n",
            "Initial Balance = $10,000,000\n",
            "Sales           = $0\n",
            "Fixed Cost      = $10,000,000\n",
            "Variable Cost   = $0\n",
            "Payout          = $0\n",
            "=========================\n",
            "Balance         = $0\n"
          ]
        }
      ]
    },
    {
      "cell_type": "code",
      "source": [
        "# Plot visual graph\n",
        "import matplotlib.pyplot as plt\n",
        "fig = plt.figure()\n",
        "ax = fig.add_axes([0,0,1,1])\n",
        "cases = ['Best Case', 'Averaget Case', 'Worst Case']\n",
        "students = [math.trunc(balance1),math.trunc(balance2),math.trunc(balance3)]\n",
        "plt.title(f\"Balance by Scenario\")\n",
        "ax.bar(cases,students)\n",
        "ax.set_ylabel('Balance')\n",
        "\n",
        "for i, v in enumerate(students):\n",
        "    ax.text(i-0.38, \n",
        "    v/2, \n",
        "    f\"${students[i]:,}\".format(),\n",
        "    fontsize=18)\n",
        "plt.show()"
      ],
      "metadata": {
        "colab": {
          "base_uri": "https://localhost:8080/",
          "height": 352
        },
        "id": "RDHCG7ng1FpF",
        "outputId": "cc3a737b-3dfe-48e9-f6e8-e1592c538d38"
      },
      "execution_count": 25,
      "outputs": [
        {
          "output_type": "display_data",
          "data": {
            "text/plain": [
              "<Figure size 432x288 with 1 Axes>"
            ],
            "image/png": "[encoded data removed]"
          },
          "metadata": {
            "needs_background": "light"
          }
        }
      ]
    },
    {
      "cell_type": "code",
      "source": [
        "# Probability\n",
        "prob = .01 # 2D permuatation with replacement\n",
        "prob_94 = pow(prob, 91)\n",
        "print(f\"Probability of each draw = {prob}\".format()) \n",
        "print(f\"Probability of {draws} consecutive draws = {prob_94}\".format())"
      ],
      "metadata": {
        "colab": {
          "base_uri": "https://localhost:8080/"
        },
        "id": "u4X-3dTd4bsV",
        "outputId": "c004f636-26e5-4410-89fc-1487c5e231b3"
      },
      "execution_count": 27,
      "outputs": [
        {
          "output_type": "stream",
          "name": "stdout",
          "text": [
            "Probability of each draw = 0.01\n",
            "Probability of 91 consecutive draws = 1.0000000000000019e-182\n"
          ]
        }
      ]
    }
  ]
}